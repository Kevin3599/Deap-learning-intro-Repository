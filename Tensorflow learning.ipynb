{
 "cells": [
  {
   "cell_type": "code",
   "execution_count": 1,
   "id": "38376290-c616-4415-ab2d-d4081b48c94c",
   "metadata": {},
   "outputs": [
    {
     "name": "stdout",
     "output_type": "stream",
     "text": [
      "Tensorflow version:  2.4.0\n",
      "Tensorflow is built with CUDA:  False\n",
      "All devices:  [PhysicalDevice(name='/physical_device:CPU:0', device_type='CPU')]\n",
      "GPU devices:  []\n",
      "tf.Tensor(0.86548126, shape=(), dtype=float32)\n"
     ]
    }
   ],
   "source": [
    "# Import tensorflow\n",
    "import tensorflow as tf\n",
    "\n",
    "# Check version\n",
    "print(\"Tensorflow version: \", tf.__version__)\n",
    "\n",
    "# Test TensorFlow for cuda availibility\n",
    "print(\"Tensorflow is built with CUDA: \", tf.test.is_built_with_cuda())\n",
    "\n",
    "# Check devices\n",
    "print(\"All devices: \", tf.config.list_physical_devices(device_type=None))\n",
    "print(\"GPU devices: \", tf.config.list_physical_devices(device_type='GPU'))\n",
    "\n",
    "# Print a randomly generated tensor\n",
    "# tf.math.reduce_sum: https://www.tensorflow.org/api_docs/python/tf/math/reduce_sum\n",
    "# tf.random.normal: https://www.tensorflow.org/api_docs/python/tf/random/normal\n",
    "print(tf.math.reduce_sum(tf.random.normal([1, 10])))\n"
   ]
  },
  {
   "cell_type": "code",
   "execution_count": 2,
   "id": "e92429ec-a696-470c-8ddc-ddf3395d6111",
   "metadata": {},
   "outputs": [
    {
     "name": "stdout",
     "output_type": "stream",
     "text": [
      "Print constant tensor 0 of rank 0\n",
      "Show full tensor: tf.Tensor(0, shape=(), dtype=int32)\n"
     ]
    }
   ],
   "source": [
    "# Import necessary libraries\n",
    "import tensorflow as tf\n",
    "import numpy as np\n",
    "tensor = tf.constant(0)\n",
    "print(\"Print constant tensor {} of rank {}\".format(tensor, tf.rank(tensor)))\n",
    "print(\"Show full tensor:\", tensor)"
   ]
  },
  {
   "cell_type": "code",
   "execution_count": null,
   "id": "ebd558b1-ef5e-4cfa-8e3b-8ab29704c599",
   "metadata": {},
   "outputs": [],
   "source": []
  }
 ],
 "metadata": {
  "kernelspec": {
   "display_name": "tensorflow_env",
   "language": "python",
   "name": "tensorflow_env"
  },
  "language_info": {
   "codemirror_mode": {
    "name": "ipython",
    "version": 3
   },
   "file_extension": ".py",
   "mimetype": "text/x-python",
   "name": "python",
   "nbconvert_exporter": "python",
   "pygments_lexer": "ipython3",
   "version": "3.7.2"
  }
 },
 "nbformat": 4,
 "nbformat_minor": 5
}
