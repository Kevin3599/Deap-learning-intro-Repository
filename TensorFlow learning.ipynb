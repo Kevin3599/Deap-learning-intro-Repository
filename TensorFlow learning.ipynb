{
  "nbformat": 4,
  "nbformat_minor": 0,
  "metadata": {
    "colab": {
      "name": "Test1.ipynb",
      "provenance": [],
      "authorship_tag": "ABX9TyO0s7KbZdw5oacKSVoKpf51",
      "include_colab_link": true
    },
    "kernelspec": {
      "name": "python3",
      "display_name": "Python 3"
    },
    "language_info": {
      "name": "python"
    }
  },
  "cells": [
    {
      "cell_type": "markdown",
      "metadata": {
        "id": "view-in-github",
        "colab_type": "text"
      },
      "source": [
        "<a href=\"https://colab.research.google.com/github/Kevin3599/Tensprflow-Repository/blob/main/Test1.ipynb\" target=\"_parent\"><img src=\"https://colab.research.google.com/assets/colab-badge.svg\" alt=\"Open In Colab\"/></a>"
      ]
    },
    {
      "cell_type": "code",
      "metadata": {
        "colab": {
          "base_uri": "https://localhost:8080/"
        },
        "id": "zxeJyODM1BTb",
        "outputId": "cc229e48-bd3c-4473-fea1-4823939fe423"
      },
      "source": [
        "import tensorflow as tf\n",
        "from tensorflow.keras import layers\n",
        "print(tf.__version__)\n",
        "print(tf.keras.__version__)"
      ],
      "execution_count": null,
      "outputs": [
        {
          "output_type": "stream",
          "name": "stdout",
          "text": [
            "2.6.0\n",
            "2.6.0\n"
          ]
        }
      ]
    },
    {
      "cell_type": "code",
      "metadata": {
        "id": "EF71mZT7_BIH",
        "colab": {
          "base_uri": "https://localhost:8080/"
        },
        "outputId": "169bf818-4fe9-47ec-e99e-45458e86ca28"
      },
      "source": [
        "import tensorflow as tf \n",
        "import numpty as py\n",
        "from tensorflow.examples.tutorials.mnist import input_data\n",
        "def run_cnn:()\n",
        "mnist = input_data.read_data_sets(\"MNIST_data/\", one_hot = True)\n",
        "learnig_rate =0.00001\n",
        "epochs=10\n",
        "batch_size=50\n",
        "x = tf.placeholder(tf.float32, [None, 784])\n",
        "\n",
        "\n",
        "\n",
        "\n"
      ],
      "execution_count": null,
      "outputs": [
        {
          "output_type": "stream",
          "name": "stdout",
          "text": [
            "tf.Tensor(9.0, shape=(), dtype=float32) tf.Tensor(6.0, shape=(), dtype=float32)\n"
          ]
        }
      ]
    }
  ]
}
